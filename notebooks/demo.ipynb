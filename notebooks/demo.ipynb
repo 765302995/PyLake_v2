{
 "cells": [
  {
   "cell_type": "markdown",
   "metadata": {},
   "source": [
    "# Welcome to the Pylake Tutorial\n",
    "## This notebook present a simple example for the use of Pylake\n",
    "Note: \n",
    "* Created for Pylake 0.0.13\n",
    "* Here we use a simple 1D data, however the package is build with xarray, meaning that xarray dataset are well included and optimized\n",
    "* If an xarray is passed, the dimensions of time and depth must be named \"time\" and \"depth\" respectively"
   ]
  },
  {
   "cell_type": "markdown",
   "metadata": {},
   "source": [
    "Import the necessary packages: "
   ]
  },
  {
   "cell_type": "code",
   "execution_count": null,
   "metadata": {},
   "outputs": [],
   "source": [
    "import pylake\n",
    "import numpy as np\n",
    "import seawater as sw\n",
    "import matplotlib.pyplot as plt"
   ]
  },
  {
   "cell_type": "markdown",
   "metadata": {},
   "source": [
    "Very simple dataset (1D): temperature column"
   ]
  },
  {
   "cell_type": "code",
   "execution_count": null,
   "metadata": {},
   "outputs": [],
   "source": [
    "Temp = np.array([14.3,14,12.1,10,9.7,9.5,6,5])\n",
    "depth = np.array([1,2,3,4,5,6,7,8])"
   ]
  },
  {
   "cell_type": "code",
   "execution_count": null,
   "metadata": {},
   "outputs": [],
   "source": [
    "plt.plot(Temp, depth)\n",
    "plt.gca().invert_yaxis()"
   ]
  },
  {
   "cell_type": "markdown",
   "metadata": {},
   "source": [
    "Let's start with methods that just takes temperature and depth as input: \n",
    "* Thermocline\n",
    "* Seasonal thermocline\n",
    "* Epilimnion depth and Hypolimnion depth \n",
    "* Mixed layer depth \n",
    "* Buoyancy frequency"
   ]
  },
  {
   "cell_type": "code",
   "execution_count": null,
   "metadata": {},
   "outputs": [],
   "source": [
    "thermoD, thermoInd = pylake.thermocline(Temp, depth)\n",
    "epilimnion, hypolimnion = pylake.metalimnion(Temp, depth)\n",
    "SthermoD, SthermoInd = pylake.seasonal_thermocline(Temp,depth)\n",
    "hML = pylake.mixed_layer(Temp,depth, threshold=0.4)\n",
    "n2 = pylake.buoyancy_freq(Temp, depth, g=9.81)"
   ]
  },
  {
   "cell_type": "markdown",
   "metadata": {},
   "source": [
    "Some other methods needs more input data: \n",
    "* Bathymetry (area vs depth)\n",
    "* Fetch length (along the distance from the wind direction), can be an averaged diameter.\n",
    "* Friction velocity \n",
    "\n",
    "Some other input can be calculated with the data that we already produced \n",
    "* Average layer density\n",
    "* epilimnion and hypolimnion density difference"
   ]
  },
  {
   "cell_type": "code",
   "execution_count": null,
   "metadata": {},
   "outputs": [],
   "source": [
    "bthA = np.array([100,90,86,82,20,1])\n",
    "bthD = np.array([0,2.3,2.5,4.2,5.8,7])\n",
    "Lo = 50\n",
    "ustar = 0.5\n",
    "\n",
    "avg_ep_T = pylake.Average_layer_temp(Temp, depth=depth, depth_ref=epilimnion, layer='top')\n",
    "avg_ep_rho = sw.dens0(s=0.2,t=avg_ep_T)\n",
    "avg_hyp_T = pylake.Average_layer_temp(Temp, depth=depth, depth_ref=hypolimnion, layer='bot')\n",
    "avg_hyp_rho = sw.dens0(s=0.2,t=avg_hyp_T)\n",
    "delta_rho = avg_hyp_rho-avg_ep_rho\n",
    "\n"
   ]
  },
  {
   "cell_type": "markdown",
   "metadata": {},
   "source": [
    "Here are some of the methods implemented by Pylake: \n",
    "* Wedderburn number \n",
    "* Schmidt stability\n",
    "* heat content\n",
    "* Seiche periode Monismith (1986)\n",
    "* Lake number "
   ]
  },
  {
   "cell_type": "code",
   "execution_count": null,
   "metadata": {},
   "outputs": [],
   "source": [
    "W = pylake.wedderburn(delta_rho, metaT=epilimnion, uSt=ustar, AvHyp_rho=avg_hyp_rho, Lo=Lo, g=9.81)\n",
    "\n",
    "Schmidt_stability = pylake.schmidt_stability(Temp, depth=depth, bthA=bthA, bthD=bthD, sal = 0.2, g=9.81, dz=0.1)\n",
    "\n",
    "heat_content = pylake.heat_content(Temp, bthA=bthA, bthD=bthD, depth=depth, s=0.2)\n",
    "\n",
    "seiche_period_1 = pylake.seiche_period_1(depth=depth, Zt=thermoD, Lt=Lo, delta_rho=delta_rho, AvHyp_rho=avg_hyp_rho, g= 9.81)\n",
    "\n",
    "Lake_number = pylake.Lake_number(bthA=bthA, bthD=bthD, ustar=ustar, St=Schmidt_stability, metaT=epilimnion, metaB=hypolimnion, averageHypoDense=avg_hyp_rho, g=9.81)"
   ]
  },
  {
   "cell_type": "code",
   "execution_count": null,
   "metadata": {},
   "outputs": [],
   "source": [
    "W"
   ]
  },
  {
   "cell_type": "code",
   "execution_count": null,
   "metadata": {},
   "outputs": [],
   "source": []
  }
 ],
 "metadata": {
  "kernelspec": {
   "display_name": "Python 3.9.7 ('lexplore')",
   "language": "python",
   "name": "python3"
  },
  "language_info": {
   "codemirror_mode": {
    "name": "ipython",
    "version": 3
   },
   "file_extension": ".py",
   "mimetype": "text/x-python",
   "name": "python",
   "nbconvert_exporter": "python",
   "pygments_lexer": "ipython3",
   "version": "3.9.7"
  },
  "orig_nbformat": 4,
  "vscode": {
   "interpreter": {
    "hash": "f28443f8a8e575468b71149436fbd6d9e2efd97a6f7324e08353afc0e276a217"
   }
  }
 },
 "nbformat": 4,
 "nbformat_minor": 2
}
